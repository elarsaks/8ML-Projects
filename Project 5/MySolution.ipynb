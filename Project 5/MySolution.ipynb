{
 "cells": [
  {
   "cell_type": "markdown",
   "metadata": {},
   "source": [
    "# STEP 1: IMPORT LIBRARIES AND DATASET"
   ]
  },
  {
   "cell_type": "code",
   "execution_count": 2,
   "metadata": {},
   "outputs": [],
   "source": [
    "import warnings\n",
    "warnings.filterwarnings(\"ignore\")"
   ]
  },
  {
   "cell_type": "code",
   "execution_count": 3,
   "metadata": {},
   "outputs": [],
   "source": [
    "# import libraries \n",
    "import pickle\n",
    "import seaborn as sns\n",
    "import pandas as pd # Import Pandas for data manipulation using dataframes\n",
    "import numpy as np # Import Numpy for data statistical analysis \n",
    "import matplotlib.pyplot as plt # Import matplotlib for data visualisation\n",
    "import random"
   ]
  },
  {
   "cell_type": "code",
   "execution_count": 5,
   "metadata": {},
   "outputs": [],
   "source": [
    "# The pickle module implements binary protocols for serializing and de-serializing a Python object structure.\n",
    "with open(\"./traffic-signs-data/train.p\", mode='rb') as training_data:\n",
    "    train = pickle.load(training_data)\n",
    "with open(\"./traffic-signs-data/valid.p\", mode='rb') as validation_data:\n",
    "    valid = pickle.load(validation_data)\n",
    "with open(\"./traffic-signs-data/test.p\", mode='rb') as testing_data:\n",
    "    test = pickle.load(testing_data)"
   ]
  },
  {
   "cell_type": "code",
   "execution_count": 6,
   "metadata": {},
   "outputs": [],
   "source": [
    "X_train, y_train = train['features'], train['labels']\n",
    "X_validation, y_validation = valid['features'], valid['labels']\n",
    "X_test, y_test = test['features'], test['labels']"
   ]
  },
  {
   "cell_type": "code",
   "execution_count": 7,
   "metadata": {},
   "outputs": [
    {
     "data": {
      "text/plain": [
       "(34799, 32, 32, 3)"
      ]
     },
     "execution_count": 7,
     "metadata": {},
     "output_type": "execute_result"
    }
   ],
   "source": [
    "X_train.shape"
   ]
  },
  {
   "cell_type": "code",
   "execution_count": 8,
   "metadata": {},
   "outputs": [
    {
     "data": {
      "text/plain": [
       "(34799,)"
      ]
     },
     "execution_count": 8,
     "metadata": {},
     "output_type": "execute_result"
    }
   ],
   "source": [
    "y_train.shape"
   ]
  },
  {
   "cell_type": "code",
   "execution_count": 13,
   "metadata": {},
   "outputs": [
    {
     "data": {
      "text/plain": [
       "(4410, 32, 32, 3)"
      ]
     },
     "execution_count": 13,
     "metadata": {},
     "output_type": "execute_result"
    }
   ],
   "source": [
    "X_validation.shape"
   ]
  },
  {
   "cell_type": "code",
   "execution_count": 15,
   "metadata": {},
   "outputs": [
    {
     "data": {
      "text/plain": [
       "(4410,)"
      ]
     },
     "execution_count": 15,
     "metadata": {},
     "output_type": "execute_result"
    }
   ],
   "source": [
    "y_validation.shape"
   ]
  },
  {
   "cell_type": "code",
   "execution_count": 17,
   "metadata": {},
   "outputs": [
    {
     "data": {
      "text/plain": [
       "(12630, 32, 32, 3)"
      ]
     },
     "execution_count": 17,
     "metadata": {},
     "output_type": "execute_result"
    }
   ],
   "source": [
    "X_test.shape"
   ]
  },
  {
   "cell_type": "code",
   "execution_count": 18,
   "metadata": {},
   "outputs": [
    {
     "data": {
      "text/plain": [
       "(12630,)"
      ]
     },
     "execution_count": 18,
     "metadata": {},
     "output_type": "execute_result"
    }
   ],
   "source": [
    "y_test.shape"
   ]
  },
  {
   "cell_type": "markdown",
   "metadata": {},
   "source": [
    "# STEP 2: IMAGE EXPLORATION."
   ]
  },
  {
   "cell_type": "code",
   "execution_count": 24,
   "metadata": {},
   "outputs": [
    {
     "data": {
      "text/plain": [
       "36"
      ]
     },
     "execution_count": 24,
     "metadata": {},
     "output_type": "execute_result"
    },
    {
     "data": {
      "image/png": "[encoded data removed]",
      "text/plain": [
       "<Figure size 640x480 with 1 Axes>"
      ]
     },
     "metadata": {},
     "output_type": "display_data"
    }
   ],
   "source": [
    "i = 1001\n",
    "plt.imshow(X_train[i]) # Show images are not shuffled\n",
    "y_train[i]\n"
   ]
  },
  {
   "cell_type": "code",
   "execution_count": 25,
   "metadata": {},
   "outputs": [
    {
     "data": {
      "text/plain": [
       "4"
      ]
     },
     "execution_count": 25,
     "metadata": {},
     "output_type": "execute_result"
    },
    {
     "data": {
      "image/png": "[encoded data removed]",
      "text/plain": [
       "<Figure size 640x480 with 1 Axes>"
      ]
     },
     "metadata": {},
     "output_type": "display_data"
    }
   ],
   "source": [
    "i = 1001\n",
    "plt.imshow(X_validation[i]) # Show images are not shuffled\n",
    "y_validation[i]"
   ]
  },
  {
   "cell_type": "code",
   "execution_count": 28,
   "metadata": {},
   "outputs": [
    {
     "data": {
      "text/plain": [
       "12"
      ]
     },
     "execution_count": 28,
     "metadata": {},
     "output_type": "execute_result"
    },
    {
     "data": {
      "image/png": "[encoded data removed]",
      "text/plain": [
       "<Figure size 640x480 with 1 Axes>"
      ]
     },
     "metadata": {},
     "output_type": "display_data"
    }
   ],
   "source": [
    "i = 1002\n",
    "plt.imshow(X_test[i]) # Show images are not shuffled\n",
    "y_test[i]"
   ]
  },
  {
   "cell_type": "markdown",
   "metadata": {},
   "source": [
    "# STEP 3: DATA PREPARATION"
   ]
  },
  {
   "cell_type": "code",
   "execution_count": 29,
   "metadata": {},
   "outputs": [],
   "source": [
    "## Shuffle the dataset \n",
    "from sklearn.utils import shuffle\n",
    "X_train, y_train = shuffle(X_train, y_train)"
   ]
  },
  {
   "cell_type": "code",
   "execution_count": 30,
   "metadata": {},
   "outputs": [],
   "source": [
    "X_train_gray = np.sum(X_train/3, axis=3, keepdims=True)\n",
    "X_test_gray  = np.sum(X_test/3, axis=3, keepdims=True)\n",
    "X_validation_gray  = np.sum(X_validation/3, axis=3, keepdims=True) "
   ]
  },
  {
   "cell_type": "code",
   "execution_count": 31,
   "metadata": {},
   "outputs": [],
   "source": [
    "X_train_gray_norm = (X_train_gray - 128)/128 \n",
    "X_test_gray_norm = (X_test_gray - 128)/128\n",
    "X_validation_gray_norm = (X_validation_gray - 128)/128"
   ]
  },
  {
   "cell_type": "code",
   "execution_count": 34,
   "metadata": {},
   "outputs": [
    {
     "data": {
      "text/plain": [
       "array([[[[ 0.70833333],\n",
       "         [ 0.71614583],\n",
       "         [ 0.69791667],\n",
       "         ...,\n",
       "         [ 0.13020833],\n",
       "         [ 0.19010417],\n",
       "         [ 0.1015625 ]],\n",
       "\n",
       "        [[ 0.7109375 ],\n",
       "         [ 0.71614583],\n",
       "         [ 0.69791667],\n",
       "         ...,\n",
       "         [ 0.06510417],\n",
       "         [ 0.09895833],\n",
       "         [ 0.01041667]],\n",
       "\n",
       "        [[ 0.71614583],\n",
       "         [ 0.71875   ],\n",
       "         [ 0.70052083],\n",
       "         ...,\n",
       "         [-0.12760417],\n",
       "         [-0.12239583],\n",
       "         [-0.1328125 ]],\n",
       "\n",
       "        ...,\n",
       "\n",
       "        [[-0.70052083],\n",
       "         [-0.70572917],\n",
       "         [-0.72135417],\n",
       "         ...,\n",
       "         [-0.70572917],\n",
       "         [-0.76302083],\n",
       "         [-0.80989583]],\n",
       "\n",
       "        [[-0.65885417],\n",
       "         [-0.67708333],\n",
       "         [-0.69270833],\n",
       "         ...,\n",
       "         [-0.703125  ],\n",
       "         [-0.75260417],\n",
       "         [-0.79947917]],\n",
       "\n",
       "        [[-0.703125  ],\n",
       "         [-0.70572917],\n",
       "         [-0.71614583],\n",
       "         ...,\n",
       "         [-0.71614583],\n",
       "         [-0.7734375 ],\n",
       "         [-0.8203125 ]]],\n",
       "\n",
       "\n",
       "       [[[-0.83854167],\n",
       "         [-0.8359375 ],\n",
       "         [-0.828125  ],\n",
       "         ...,\n",
       "         [-0.86197917],\n",
       "         [-0.859375  ],\n",
       "         [-0.86197917]],\n",
       "\n",
       "        [[-0.84895833],\n",
       "         [-0.84114583],\n",
       "         [-0.83333333],\n",
       "         ...,\n",
       "         [-0.85416667],\n",
       "         [-0.84375   ],\n",
       "         [-0.84114583]],\n",
       "\n",
       "        [[-0.85416667],\n",
       "         [-0.84375   ],\n",
       "         [-0.83333333],\n",
       "         ...,\n",
       "         [-0.85677083],\n",
       "         [-0.859375  ],\n",
       "         [-0.84895833]],\n",
       "\n",
       "        ...,\n",
       "\n",
       "        [[-0.86197917],\n",
       "         [-0.86197917],\n",
       "         [-0.8671875 ],\n",
       "         ...,\n",
       "         [-0.87760417],\n",
       "         [-0.8671875 ],\n",
       "         [-0.859375  ]],\n",
       "\n",
       "        [[-0.85677083],\n",
       "         [-0.85677083],\n",
       "         [-0.85677083],\n",
       "         ...,\n",
       "         [-0.89322917],\n",
       "         [-0.890625  ],\n",
       "         [-0.88802083]],\n",
       "\n",
       "        [[-0.85416667],\n",
       "         [-0.85416667],\n",
       "         [-0.8515625 ],\n",
       "         ...,\n",
       "         [-0.87239583],\n",
       "         [-0.88020833],\n",
       "         [-0.86458333]]],\n",
       "\n",
       "\n",
       "       [[[-0.93489583],\n",
       "         [-0.93489583],\n",
       "         [-0.93229167],\n",
       "         ...,\n",
       "         [-0.93489583],\n",
       "         [-0.9375    ],\n",
       "         [-0.94270833]],\n",
       "\n",
       "        [[-0.92708333],\n",
       "         [-0.92708333],\n",
       "         [-0.92708333],\n",
       "         ...,\n",
       "         [-0.9375    ],\n",
       "         [-0.9375    ],\n",
       "         [-0.93229167]],\n",
       "\n",
       "        [[-0.93489583],\n",
       "         [-0.92708333],\n",
       "         [-0.93489583],\n",
       "         ...,\n",
       "         [-0.93229167],\n",
       "         [-0.93489583],\n",
       "         [-0.94010417]],\n",
       "\n",
       "        ...,\n",
       "\n",
       "        [[-0.9375    ],\n",
       "         [-0.93489583],\n",
       "         [-0.9375    ],\n",
       "         ...,\n",
       "         [-0.9453125 ],\n",
       "         [-0.9453125 ],\n",
       "         [-0.94270833]],\n",
       "\n",
       "        [[-0.94270833],\n",
       "         [-0.94270833],\n",
       "         [-0.94270833],\n",
       "         ...,\n",
       "         [-0.94270833],\n",
       "         [-0.94270833],\n",
       "         [-0.94270833]],\n",
       "\n",
       "        [[-0.9375    ],\n",
       "         [-0.94270833],\n",
       "         [-0.94270833],\n",
       "         ...,\n",
       "         [-0.94270833],\n",
       "         [-0.94270833],\n",
       "         [-0.94270833]]],\n",
       "\n",
       "\n",
       "       ...,\n",
       "\n",
       "\n",
       "       [[[-0.19270833],\n",
       "         [-0.18489583],\n",
       "         [-0.1875    ],\n",
       "         ...,\n",
       "         [-0.20052083],\n",
       "         [-0.2109375 ],\n",
       "         [-0.1953125 ]],\n",
       "\n",
       "        [[-0.20052083],\n",
       "         [-0.19791667],\n",
       "         [-0.1953125 ],\n",
       "         ...,\n",
       "         [-0.19791667],\n",
       "         [-0.20052083],\n",
       "         [-0.1796875 ]],\n",
       "\n",
       "        [[-0.20833333],\n",
       "         [-0.20833333],\n",
       "         [-0.2109375 ],\n",
       "         ...,\n",
       "         [-0.1953125 ],\n",
       "         [-0.1796875 ],\n",
       "         [-0.171875  ]],\n",
       "\n",
       "        ...,\n",
       "\n",
       "        [[-0.32552083],\n",
       "         [-0.33854167],\n",
       "         [-0.32552083],\n",
       "         ...,\n",
       "         [-0.29427083],\n",
       "         [-0.34114583],\n",
       "         [-0.34114583]],\n",
       "\n",
       "        [[-0.34895833],\n",
       "         [-0.34114583],\n",
       "         [-0.328125  ],\n",
       "         ...,\n",
       "         [-0.30989583],\n",
       "         [-0.35416667],\n",
       "         [-0.359375  ]],\n",
       "\n",
       "        [[-0.34895833],\n",
       "         [-0.33072917],\n",
       "         [-0.34375   ],\n",
       "         ...,\n",
       "         [-0.29427083],\n",
       "         [-0.3515625 ],\n",
       "         [-0.3515625 ]]],\n",
       "\n",
       "\n",
       "       [[[-0.49739583],\n",
       "         [-0.5078125 ],\n",
       "         [-0.52083333],\n",
       "         ...,\n",
       "         [-0.359375  ],\n",
       "         [-0.3515625 ],\n",
       "         [-0.35416667]],\n",
       "\n",
       "        [[-0.5078125 ],\n",
       "         [-0.4765625 ],\n",
       "         [-0.45572917],\n",
       "         ...,\n",
       "         [-0.43489583],\n",
       "         [-0.44791667],\n",
       "         [-0.45833333]],\n",
       "\n",
       "        [[-0.46875   ],\n",
       "         [-0.4296875 ],\n",
       "         [-0.46614583],\n",
       "         ...,\n",
       "         [-0.47135417],\n",
       "         [-0.48177083],\n",
       "         [-0.49479167]],\n",
       "\n",
       "        ...,\n",
       "\n",
       "        [[-0.57552083],\n",
       "         [-0.57291667],\n",
       "         [-0.5859375 ],\n",
       "         ...,\n",
       "         [-0.55989583],\n",
       "         [-0.4921875 ],\n",
       "         [-0.47395833]],\n",
       "\n",
       "        [[-0.56510417],\n",
       "         [-0.53645833],\n",
       "         [-0.56770833],\n",
       "         ...,\n",
       "         [-0.546875  ],\n",
       "         [-0.48177083],\n",
       "         [-0.4765625 ]],\n",
       "\n",
       "        [[-0.53385417],\n",
       "         [-0.5       ],\n",
       "         [-0.49739583],\n",
       "         ...,\n",
       "         [-0.546875  ],\n",
       "         [-0.51302083],\n",
       "         [-0.4765625 ]]],\n",
       "\n",
       "\n",
       "       [[[ 0.0546875 ],\n",
       "         [ 0.0625    ],\n",
       "         [ 0.06770833],\n",
       "         ...,\n",
       "         [ 0.03385417],\n",
       "         [ 0.03125   ],\n",
       "         [ 0.03645833]],\n",
       "\n",
       "        [[ 0.08072917],\n",
       "         [ 0.05989583],\n",
       "         [ 0.07291667],\n",
       "         ...,\n",
       "         [ 0.03385417],\n",
       "         [ 0.03125   ],\n",
       "         [ 0.046875  ]],\n",
       "\n",
       "        [[ 0.05208333],\n",
       "         [ 0.04947917],\n",
       "         [ 0.0546875 ],\n",
       "         ...,\n",
       "         [ 0.02083333],\n",
       "         [ 0.03645833],\n",
       "         [ 0.04427083]],\n",
       "\n",
       "        ...,\n",
       "\n",
       "        [[-0.04166667],\n",
       "         [-0.03385417],\n",
       "         [-0.02604167],\n",
       "         ...,\n",
       "         [-0.84114583],\n",
       "         [-0.83854167],\n",
       "         [-0.828125  ]],\n",
       "\n",
       "        [[-0.03645833],\n",
       "         [-0.03125   ],\n",
       "         [-0.03645833],\n",
       "         ...,\n",
       "         [-0.84375   ],\n",
       "         [-0.83333333],\n",
       "         [-0.83072917]],\n",
       "\n",
       "        [[-0.02083333],\n",
       "         [-0.02864583],\n",
       "         [-0.04166667],\n",
       "         ...,\n",
       "         [-0.84375   ],\n",
       "         [-0.82291667],\n",
       "         [-0.828125  ]]]])"
      ]
     },
     "execution_count": 34,
     "metadata": {},
     "output_type": "execute_result"
    }
   ],
   "source": [
    "X_train_gray_norm"
   ]
  },
  {
   "cell_type": "code",
   "execution_count": 35,
   "metadata": {},
   "outputs": [
    {
     "data": {
      "text/plain": [
       "<matplotlib.image.AxesImage at 0x37bbb5e50>"
      ]
     },
     "execution_count": 35,
     "metadata": {},
     "output_type": "execute_result"
    },
    {
     "data": {
      "image/png": "[encoded data removed]",
      "text/plain": [
       "<Figure size 640x480 with 1 Axes>"
      ]
     },
     "metadata": {},
     "output_type": "display_data"
    },
    {
     "data": {
      "image/png": "[encoded data removed]",
      "text/plain": [
       "<Figure size 640x480 with 1 Axes>"
      ]
     },
     "metadata": {},
     "output_type": "display_data"
    },
    {
     "data": {
      "image/png": "[encoded data removed]",
      "text/plain": [
       "<Figure size 640x480 with 1 Axes>"
      ]
     },
     "metadata": {},
     "output_type": "display_data"
    }
   ],
   "source": [
    "i = 610\n",
    "plt.imshow(X_train_gray[i].squeeze(), cmap='gray')\n",
    "plt.figure()\n",
    "plt.imshow(X_train[i])\n",
    "plt.figure()\n",
    "plt.imshow(X_train_gray_norm[i].squeeze(), cmap='gray')"
   ]
  },
  {
   "cell_type": "code",
   "execution_count": null,
   "metadata": {},
   "outputs": [],
   "source": []
  }
 ],
 "metadata": {
  "kernelspec": {
   "display_name": "ml-projects",
   "language": "python",
   "name": "python3"
  },
  "language_info": {
   "codemirror_mode": {
    "name": "ipython",
    "version": 3
   },
   "file_extension": ".py",
   "mimetype": "text/x-python",
   "name": "python",
   "nbconvert_exporter": "python",
   "pygments_lexer": "ipython3",
   "version": "3.11.9"
  }
 },
 "nbformat": 4,
 "nbformat_minor": 2
}
